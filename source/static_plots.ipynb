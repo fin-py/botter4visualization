{
 "cells": [
  {
   "cell_type": "markdown",
   "metadata": {},
   "source": [
    "# Static Plots\n",
    "\n",
    "- [pandas.DataFrame.plot — pandas 1.4.1 documentation](https://pandas.pydata.org/docs/reference/api/pandas.DataFrame.plot.html)\n",
    "- [Matplotlib — Visualization with Python](https://matplotlib.org/)\n",
    "- [seaborn: statistical data visualization — seaborn 0.11.2 documentation](https://seaborn.pydata.org/)\n",
    "- [MtkN1/pybotters: An advanced api client for python botters.](https://github.com/MtkN1/pybotters)\n"
   ]
  },
  {
   "cell_type": "markdown",
   "metadata": {},
   "source": [
    "## 約定データ\n",
    "\n",
    "- 時系列の折れ線グラフ\n",
    "- 価格帯別出来高\n",
    "- ボリュームの(棒)グラフを下につける\n",
    "- 指標は代表的なやつを1つ紹介する(SMA, RSIなど)"
   ]
  },
  {
   "cell_type": "code",
   "execution_count": 4,
   "metadata": {},
   "outputs": [],
   "source": [
    "import os\n",
    "import sys\n",
    "import datetime\n",
    "import requests\n"
   ]
  },
  {
   "cell_type": "code",
   "execution_count": 1,
   "metadata": {},
   "outputs": [],
   "source": [
    "def download_zip(url, save_path, chunk_size=128):\n",
    "    r = requests.get(url, stream=True)\n",
    "    with open(save_path, \"wb\") as fd:\n",
    "        for chunk in r.iter_content(chunk_size=chunk_size):\n",
    "            fd.write(chunk)"
   ]
  },
  {
   "cell_type": "code",
   "execution_count": 3,
   "metadata": {},
   "outputs": [],
   "source": [
    "def get_data_url(url):\n",
    "    r = requests.get(url)\n",
    "    if r.status_code == 200:\n",
    "        if r.json()[\"urls\"]:\n",
    "            return r.json()[\"urls\"][0][\"url\"]\n",
    "    return None\n",
    "def trade_link(endpoint, exchange, instrument, starttime):\n",
    "    \"\"\"\n",
    "    starttime: YYYY-mm-dd\n",
    "    \"\"\"\n",
    "    base_url = f\"/trade/{exchange}/{instrument}?startTime={starttime}\"\n",
    "    return endpoint + base_url\n",
    "\n",
    "\n",
    "def gz_path(exchange, instrument, date, save_dir):\n",
    "    return os.path.join(f\"{save_dir}\", f\"{exchange}_{instrument}_{date}.gz\")\n",
    "\n",
    "\n",
    "def get_execution_gz(endpoint, exchange, instrument, date, save_dir, download_anyway):\n",
    "    if not os.path.exists(save_dir):\n",
    "        os.makedirs(save_dir)\n",
    "\n",
    "    gzpath = gz_path(exchange, instrument, date, save_dir)\n",
    "    if os.path.exists(gzpath) and not download_anyway:\n",
    "        print(\n",
    "            f\"{gzpath} exits. Since download_anyway option is False, Will not Download\"\n",
    "        )\n",
    "        return\n",
    "\n",
    "    cryptochassis_trade_api_url = trade_link(endpoint, exchange, instrument, date)\n",
    "    gz_url = get_data_url(cryptochassis_trade_api_url)\n",
    "\n",
    "    print(f\"DOWNLOADING {endpoint}, {exchange}, {instrument}, {date} TO {gzpath}\")\n",
    "    download_zip(gz_url, gzpath)"
   ]
  },
  {
   "cell_type": "code",
   "execution_count": 5,
   "metadata": {},
   "outputs": [
    {
     "name": "stdout",
     "output_type": "stream",
     "text": [
      "DOWNLOADING https://api.cryptochassis.com/v1, binance, btc-eur, 2022-04-02 TO /tmp/binance/gz/binance_btc-eur_2022-04-02.gz\n"
     ]
    }
   ],
   "source": [
    "endpoint = \"https://api.cryptochassis.com/v1\"\n",
    "exchange = \"binance\"\n",
    "instrument = \"btc-eur\"\n",
    "today = datetime.datetime.utcnow()\n",
    "date = (today - datetime.timedelta(days=2)).strftime(\"%Y-%m-%d\")\n",
    "# save_dir = \"./data/binance/gz\"\n",
    "save_dir = \"/tmp/binance/gz\"\n",
    "download_anyway = True\n",
    "\n",
    "get_execution_gz(endpoint, exchange, instrument, date, save_dir, download_anyway)\n",
    "\n",
    "\n"
   ]
  }
 ],
 "metadata": {
  "interpreter": {
   "hash": "2a1e89808ea06c3dfe867e5aaaec04de64dd40a9093fbf6820042b0fc4812ded"
  },
  "kernelspec": {
   "display_name": "Python 3.8.3 ('.venv': venv)",
   "language": "python",
   "name": "python3"
  },
  "language_info": {
   "codemirror_mode": {
    "name": "ipython",
    "version": 3
   },
   "file_extension": ".py",
   "mimetype": "text/x-python",
   "name": "python",
   "nbconvert_exporter": "python",
   "pygments_lexer": "ipython3",
   "version": "3.8.3"
  },
  "orig_nbformat": 4
 },
 "nbformat": 4,
 "nbformat_minor": 2
}
